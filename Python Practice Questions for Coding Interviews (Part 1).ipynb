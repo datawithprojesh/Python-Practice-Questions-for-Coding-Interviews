{
 "cells": [
  {
   "cell_type": "markdown",
   "id": "18c317c2",
   "metadata": {},
   "source": [
    "## Transpose Matrix Problem\n",
    "\n",
    "Transpose Matrix problem is a very common interview question where, you will be given a matrix and you will be asked to transpose the matrix. Means:\n",
    "- convert the rows into coloumn and\n",
    "- convert the coloumns into rows\n",
    "\n",
    "This problem is commonly used in computer science and mathematics and has many applications in areas such as \n",
    "- Image processing\n",
    "- Linear algebra\n",
    "- Graph theory"
   ]
  },
  {
   "cell_type": "code",
   "execution_count": 59,
   "id": "9c0d559c",
   "metadata": {},
   "outputs": [],
   "source": [
    "def transpose (matrix):\n",
    "    \n",
    "    # Step 1: Get the lengthe of rows and colouns\n",
    "    r = len(matrix)                                          \n",
    "    c = len(matrix[0])                                       \n",
    "    \n",
    "    # Step 2: Creating an empty matrix\n",
    "    transposed = [[0 for j in range(r)] for i in range(c)]   \n",
    "    \n",
    "    # Step 3: Transposing the matrix\n",
    "    for i in range (r):\n",
    "        for j in range (c):\n",
    "            transposed [j][i] = matrix [i][j]                \n",
    "            \n",
    "    return transposed "
   ]
  },
  {
   "cell_type": "code",
   "execution_count": 60,
   "id": "b6701178",
   "metadata": {},
   "outputs": [
    {
     "name": "stdout",
     "output_type": "stream",
     "text": [
      "[[1, 4, 7], [2, 5, 8], [3, 6, 9]]\n"
     ]
    }
   ],
   "source": [
    "matrix = [[1,2,3], [4,5,6], [7,8,9]]\n",
    "print(transpose(matrix))"
   ]
  },
  {
   "cell_type": "code",
   "execution_count": null,
   "id": "54bba6f7",
   "metadata": {},
   "outputs": [],
   "source": []
  },
  {
   "cell_type": "markdown",
   "id": "d9a87353",
   "metadata": {},
   "source": [
    "## Buddy Strings Problem\n",
    "\n",
    "In the Buddy Strings problem, you need to check if it is possible to get two strings, different from exactly a swap of two letters. If such a swap exists, the program should return True; otherwise, it should return False. The program should also return False if the two strings have different lengths."
   ]
  },
  {
   "cell_type": "code",
   "execution_count": 86,
   "id": "5bc9b201",
   "metadata": {},
   "outputs": [],
   "source": [
    "def is_buddy_string(s1, s2):\n",
    "    \n",
    "    # Condition 1: Checking the lengths of both the strings are equal or not. if not equal return FALSE!\n",
    "    if len(s1) != len(s2):\n",
    "        return False\n",
    "    \n",
    "    # Condition 2: Counting the position where strings differ and storing them inside a list.\n",
    "    diff_positions = []\n",
    "    for i in range(len(s1)):\n",
    "        if s1[i] != s2[i]:\n",
    "            diff_positions.append(i)\n",
    "            \n",
    "    # Condition 3: Check if the point of differences are only 2, if not 2 then return FALSE!\n",
    "    if len(diff_positions) != 2:\n",
    "        return False\n",
    "    \n",
    "    # Swapping the Strings\n",
    "    if s1[diff_positions[0]] == s2[diff_positions[1]] and s1[diff_positions[1]] == s2[diff_positions[0]]:\n",
    "        return True\n",
    "    \n",
    "    return False"
   ]
  },
  {
   "cell_type": "code",
   "execution_count": 87,
   "id": "14a514da",
   "metadata": {},
   "outputs": [
    {
     "name": "stdout",
     "output_type": "stream",
     "text": [
      "True\n"
     ]
    }
   ],
   "source": [
    "# Case 1\n",
    "str1 = 'abc'\n",
    "str2 = 'cba'\n",
    "print(is_buddy_string(str1, str2))"
   ]
  },
  {
   "cell_type": "code",
   "execution_count": 88,
   "id": "6254eadc",
   "metadata": {},
   "outputs": [
    {
     "name": "stdout",
     "output_type": "stream",
     "text": [
      "False\n"
     ]
    }
   ],
   "source": [
    "# Case 2\n",
    "str3 = 'Projesh'\n",
    "str4 = 'Paul'\n",
    "print(is_buddy_string(str3, str4))"
   ]
  },
  {
   "cell_type": "code",
   "execution_count": null,
   "id": "4188f8df",
   "metadata": {},
   "outputs": [],
   "source": []
  },
  {
   "cell_type": "markdown",
   "id": "819db6e9",
   "metadata": {},
   "source": [
    "## Finding Uncommon Words from Two Sentences Using Python\n",
    "\n",
    "A word is considered uncommon if it occurs exactly once in one of the sentences and does not appear in the other. To solve this problem, you need to find all the words that appear only once in two given sentences."
   ]
  },
  {
   "cell_type": "code",
   "execution_count": 64,
   "id": "e1b9da5d",
   "metadata": {},
   "outputs": [],
   "source": [
    "def uncommon_words(sentence1, sentence2):\n",
    "    \n",
    "    # Step 1: Splitting the words and storing them inside a SET\n",
    "    words1 = set(sentence1.split())\n",
    "    words2 = set(sentence2.split())\n",
    "    \n",
    "    # Step 2: Finding the uncommon word using Symmetric differences\n",
    "    uncommon_words = words1.symmetric_difference(words2)\n",
    "    return uncommon_words"
   ]
  },
  {
   "cell_type": "code",
   "execution_count": 65,
   "id": "22134cbf",
   "metadata": {},
   "outputs": [
    {
     "name": "stdout",
     "output_type": "stream",
     "text": [
      "{'Mango', 'Apple'}\n"
     ]
    }
   ],
   "source": [
    "sentence1 = 'The Apple is sweet'\n",
    "sentence2 = 'The Mango is sweet'\n",
    "print(uncommon_words(sentence1, sentence2))"
   ]
  },
  {
   "cell_type": "code",
   "execution_count": null,
   "id": "72b43148",
   "metadata": {},
   "outputs": [],
   "source": []
  },
  {
   "cell_type": "markdown",
   "id": "98be52f9",
   "metadata": {},
   "source": [
    "## Binary Search using Python\n",
    "\n",
    "Binary search is an efficient algorithm for finding a specific value in a sorted list or array. It works by repeatedly dividing the search space in half until the target value is found or the search space is exhausted. "
   ]
  },
  {
   "cell_type": "code",
   "execution_count": 66,
   "id": "767ed66b",
   "metadata": {},
   "outputs": [],
   "source": [
    "def search(num, target):\n",
    "    low = 0\n",
    "    high = len(num) - 1\n",
    "    \n",
    "    while low <= high:\n",
    "        mid = (low + high) // 2\n",
    "        if num[mid] == target:\n",
    "            return mid\n",
    "        elif num[mid] < target:\n",
    "            low = mid + 1\n",
    "        else:\n",
    "            high = mid - 1\n",
    "            \n",
    "    return -1"
   ]
  },
  {
   "cell_type": "code",
   "execution_count": 67,
   "id": "4f1a2559",
   "metadata": {},
   "outputs": [
    {
     "name": "stdout",
     "output_type": "stream",
     "text": [
      "Element 5 is at postion: 4\n"
     ]
    }
   ],
   "source": [
    "num = [1,2,3,4,5,6,7,8,9]\n",
    "target = 5\n",
    "print(f'Element 5 is at postion: {search(num, target)}')"
   ]
  },
  {
   "cell_type": "code",
   "execution_count": null,
   "id": "05f13426",
   "metadata": {},
   "outputs": [],
   "source": []
  },
  {
   "cell_type": "markdown",
   "id": "90e27f27",
   "metadata": {},
   "source": [
    "## Set Mismatch using Python\n",
    "\n",
    "In the Set Mismatch problem, you will be given an array of positive integers with some elements missing or duplicated. You need to identify and return the missing and duplicated numbers to solve this problem."
   ]
  },
  {
   "cell_type": "code",
   "execution_count": 68,
   "id": "0767eacb",
   "metadata": {},
   "outputs": [],
   "source": [
    "def find_mismatch(num):\n",
    "    n = len(num)\n",
    "    \n",
    "    # Step 1: Finding the Duplicate Value\n",
    "    duplicate = -1\n",
    "    for i in num:\n",
    "        if num[abs(i) - 1] < 0:\n",
    "            duplicate = abs(i)\n",
    "        else:\n",
    "            num[abs(i) - 1] *= -1\n",
    "              \n",
    "    # Step 2: Finiding the Missing Value\n",
    "    missing = -1\n",
    "    for j in range(n):\n",
    "        if num[j] > 0:\n",
    "            missing = j + 1\n",
    "            \n",
    "    return [duplicate, missing]"
   ]
  },
  {
   "cell_type": "code",
   "execution_count": 69,
   "id": "5ee0a54e",
   "metadata": {},
   "outputs": [
    {
     "name": "stdout",
     "output_type": "stream",
     "text": [
      "[4, 5]\n"
     ]
    }
   ],
   "source": [
    "num = [1,2,3,4,4,6]\n",
    "print(find_mismatch(num))"
   ]
  },
  {
   "cell_type": "code",
   "execution_count": null,
   "id": "06cc7ef6",
   "metadata": {},
   "outputs": [],
   "source": []
  },
  {
   "cell_type": "markdown",
   "id": "d53e3b2d",
   "metadata": {},
   "source": [
    "## Detect Capital Problem\n",
    "\n",
    "In the detect capital problem, you will be given a word as input, and you need to check if:\n",
    "\n",
    "- All the letters are uppercase: return True;\n",
    "- All the letters are lowercase: return True;\n",
    "- Only the first letter is uppercase: return True;\n",
    "- Some letters are uppercase, and some are lowercase: return False;\n",
    "- The first letter is lowercase with an uppercase letter in the word: return False;"
   ]
  },
  {
   "cell_type": "code",
   "execution_count": 70,
   "id": "43295853",
   "metadata": {},
   "outputs": [],
   "source": [
    "def detect_capital(word):\n",
    "    if word.isupper():\n",
    "        return True\n",
    "    elif word.islower():\n",
    "        return True\n",
    "    elif word.istitle():\n",
    "        return True\n",
    "    else:\n",
    "        return False"
   ]
  },
  {
   "cell_type": "code",
   "execution_count": 71,
   "id": "e7ed4df8",
   "metadata": {},
   "outputs": [
    {
     "name": "stdout",
     "output_type": "stream",
     "text": [
      "True\n"
     ]
    }
   ],
   "source": [
    "word = 'Projesh'\n",
    "print(detect_capital(word))"
   ]
  },
  {
   "cell_type": "code",
   "execution_count": null,
   "id": "0863d98a",
   "metadata": {},
   "outputs": [],
   "source": []
  },
  {
   "cell_type": "markdown",
   "id": "98071eb4",
   "metadata": {},
   "source": [
    "## Perfect Number Problem\n",
    "\n",
    "For this problem you need check whether the number is equal to the sum of its divisors, excluding the number itself. \n",
    "For example, 6 is a perfect number because its divisors (excluding itself) are 1, 2, and 3, and 1 + 2 + 3 = 6. If it’s a perfect number, your output should return True, otherwise False."
   ]
  },
  {
   "cell_type": "code",
   "execution_count": 72,
   "id": "e84d6f2b",
   "metadata": {},
   "outputs": [],
   "source": [
    "def perfectno(num):\n",
    "\n",
    "    # Step 1: If the no is 1 or less than 1 then it is FALSE\n",
    "    if num <= 1:\n",
    "        return False\n",
    "    \n",
    "    # Step 2: Checking divisors upto sq root of num\n",
    "    div_sum = 1\n",
    "    i = 2\n",
    "    while i*i <= num:\n",
    "        if num % i == 0:\n",
    "            div_sum += i\n",
    "            if i != num // i:\n",
    "                div_sum += num // i  \n",
    "        i += 1\n",
    "        \n",
    "    # Step 3: Checking if the no is Perfect or not    \n",
    "    if div_sum == num:\n",
    "        return True\n",
    "    else:\n",
    "        return False"
   ]
  },
  {
   "cell_type": "code",
   "execution_count": 75,
   "id": "5e2a6bed",
   "metadata": {},
   "outputs": [
    {
     "name": "stdout",
     "output_type": "stream",
     "text": [
      "28 is perfect?: True\n",
      "38 is perfect?: False\n"
     ]
    }
   ],
   "source": [
    "print(f'28 is perfect?: {perfectno(28)}')\n",
    "print(f'38 is perfect?: {perfectno(38)}')"
   ]
  },
  {
   "cell_type": "code",
   "execution_count": null,
   "id": "6e174c63",
   "metadata": {},
   "outputs": [],
   "source": []
  },
  {
   "cell_type": "markdown",
   "id": "fcc10a65",
   "metadata": {},
   "source": [
    "## Repeated Substring Pattern using Python\n",
    "\n",
    "In the Repeated Substring Pattern problem, you will be given a string. To solve this problem, you need to check if the given string can be formed by repeating a substring of the string."
   ]
  },
  {
   "cell_type": "code",
   "execution_count": 77,
   "id": "93417a69",
   "metadata": {},
   "outputs": [],
   "source": [
    "def repeated_substring(str):\n",
    "    \n",
    "    # Getting the Substring\n",
    "    string = (str + str)[1:-1]\n",
    "    return string.find(str) != -1"
   ]
  },
  {
   "cell_type": "code",
   "execution_count": 80,
   "id": "aaada294",
   "metadata": {},
   "outputs": [
    {
     "name": "stdout",
     "output_type": "stream",
     "text": [
      "Substring can be repeated?: True\n",
      "Substring can be repeated?: False\n"
     ]
    }
   ],
   "source": [
    "print(f\"Substring can be repeated?: {repeated_substring('ababab')}\")\n",
    "print(f\"Substring can be repeated?: {repeated_substring('Projesh')}\")"
   ]
  },
  {
   "cell_type": "code",
   "execution_count": null,
   "id": "1f743fb2",
   "metadata": {},
   "outputs": [],
   "source": []
  },
  {
   "cell_type": "markdown",
   "id": "96cae9bb",
   "metadata": {},
   "source": [
    "## Counting Bits using Python\n",
    "\n",
    "In the counting bits problem, you will be given an integer n. To solve this problem, return an array of the length n + 1 where the elements will be the number of 1’s present in the binary representation of the index number of each value in the array."
   ]
  },
  {
   "cell_type": "code",
   "execution_count": 81,
   "id": "71372a92",
   "metadata": {},
   "outputs": [],
   "source": [
    "def countbits(num):\n",
    "    counter = [0]\n",
    "    if num >= 1:\n",
    "        while len(counter) <= num:\n",
    "            counter = counter + [i + 1 for i in counter]\n",
    "        return counter[: num + 1]\n",
    "    else:\n",
    "        return 0"
   ]
  },
  {
   "cell_type": "code",
   "execution_count": 82,
   "id": "e13cd582",
   "metadata": {},
   "outputs": [
    {
     "name": "stdout",
     "output_type": "stream",
     "text": [
      "[0, 1, 1, 2, 1, 2]\n"
     ]
    }
   ],
   "source": [
    "print(countbits(5))"
   ]
  },
  {
   "cell_type": "code",
   "execution_count": null,
   "id": "f896ff32",
   "metadata": {},
   "outputs": [],
   "source": []
  },
  {
   "cell_type": "markdown",
   "id": "c767b76d",
   "metadata": {},
   "source": [
    "## Valid Perfect Square using Python\n",
    "\n",
    "When we square an integer, the output is a perfect square. In the problem of validating a perfect square, you will be given an integer n. To solve this problem, you need to check whether the given integer n is a square of an integer."
   ]
  },
  {
   "cell_type": "code",
   "execution_count": 83,
   "id": "7f6a6c91",
   "metadata": {},
   "outputs": [],
   "source": [
    "def is_perfect_square(num):\n",
    "    \n",
    "    # Step 1: Find the Square root\n",
    "    sqrt = int(num ** 0.5)\n",
    "    \n",
    "    # Step 2: Check perfect square or not\n",
    "    if sqrt * sqrt == num:\n",
    "        return True\n",
    "    else:\n",
    "        return False    "
   ]
  },
  {
   "cell_type": "code",
   "execution_count": 85,
   "id": "5aeb78b2",
   "metadata": {},
   "outputs": [
    {
     "name": "stdout",
     "output_type": "stream",
     "text": [
      "45 is a Perfect square?: False\n",
      "49 is a Perfect square?: True\n"
     ]
    }
   ],
   "source": [
    "print(f'45 is a Perfect square?: {is_perfect_square(45)}')\n",
    "print(f'49 is a Perfect square?: {is_perfect_square(49)}')"
   ]
  },
  {
   "cell_type": "code",
   "execution_count": null,
   "id": "6d1a2092",
   "metadata": {},
   "outputs": [],
   "source": []
  }
 ],
 "metadata": {
  "kernelspec": {
   "display_name": "Python 3 (ipykernel)",
   "language": "python",
   "name": "python3"
  },
  "language_info": {
   "codemirror_mode": {
    "name": "ipython",
    "version": 3
   },
   "file_extension": ".py",
   "mimetype": "text/x-python",
   "name": "python",
   "nbconvert_exporter": "python",
   "pygments_lexer": "ipython3",
   "version": "3.9.13"
  }
 },
 "nbformat": 4,
 "nbformat_minor": 5
}
